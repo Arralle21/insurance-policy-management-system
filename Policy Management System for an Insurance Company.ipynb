{
  "nbformat": 4,
  "nbformat_minor": 0,
  "metadata": {
    "colab": {
      "provenance": []
    },
    "kernelspec": {
      "name": "python3",
      "display_name": "Python 3"
    },
    "language_info": {
      "name": "python"
    }
  },
  "cells": [
    {
      "cell_type": "code",
      "execution_count": null,
      "metadata": {
        "colab": {
          "base_uri": "https://localhost:8080/"
        },
        "id": "FKlyfRjvtdf1",
        "outputId": "d1d53dea-a4b7-4247-bf24-710e42b1126b"
      },
      "outputs": [
        {
          "output_type": "stream",
          "name": "stdout",
          "text": [
            "Overwriting policyholder.py\n"
          ]
        }
      ],
      "source": [
        "# Create policyholder.py content\n",
        "%%writefile policyholder.py\n",
        "class Policyholder:\n",
        "    def __init__(self, id, name, address, contact_number):\n",
        "        self.id = id\n",
        "        self.name = name\n",
        "        self.address = address\n",
        "        self.contact_number = contact_number\n",
        "        self.status = \"Active\"\n",
        "        self.policies = []\n",
        "\n",
        "    def suspend(self):\n",
        "        self.status = \"Suspended\"\n",
        "        return f\"Policyholder {self.name} has been suspended.\"\n",
        "\n",
        "    def reactivate(self):\n",
        "        self.status = \"Active\"\n",
        "        return f\"Policyholder {self.name} has been reactivated.\"\n",
        "\n",
        "    def add_policy(self, policy):\n",
        "        self.policies.append(policy)\n",
        "\n",
        "    def display_details(self):\n",
        "        details = f\"Policyholder ID: {self.id}\\n\"\n",
        "        details += f\"Name: {self.name}\\n\"\n",
        "        details += f\"Address: {self.address}\\n\"\n",
        "        details += f\"Contact: {self.contact_number}\\n\"\n",
        "        details += f\"Status: {self.status}\\n\"\n",
        "        details += f\"Policies:\\n\"\n",
        "\n",
        "        if not self.policies:\n",
        "            details += \"  No policies registered\\n\"\n",
        "        else:\n",
        "            for policy in self.policies:\n",
        "                details += f\"  - Policy ID: {policy.id}, Product: {policy.product.name}, Status: {policy.status}\\n\"\n",
        "\n",
        "        return details"
      ]
    },
    {
      "cell_type": "code",
      "source": [
        "# Create product.py content\n",
        "%%writefile product.py\n",
        "class Product:\n",
        "    def __init__(self, id, name, coverage, premium, term):\n",
        "        self.id = id\n",
        "        self.name = name\n",
        "        self.coverage = coverage\n",
        "        self.premium = premium\n",
        "        self.term = term\n",
        "        self.status = \"Active\"\n",
        "\n",
        "    def update(self, coverage=None, premium=None, term=None):\n",
        "        if coverage:\n",
        "            self.coverage = coverage\n",
        "        if premium:\n",
        "            self.premium = premium\n",
        "        if term:\n",
        "            self.term = term\n",
        "        return f\"Product {self.name} has been updated.\"\n",
        "\n",
        "    def suspend(self):\n",
        "        self.status = \"Suspended\"\n",
        "        return f\"Product {self.name} has been suspended.\"\n",
        "\n",
        "    def reactivate(self):\n",
        "        self.status = \"Active\"\n",
        "        return f\"Product {self.name} has been reactivated.\"\n",
        "\n",
        "    def display_details(self):\n",
        "        return f\"Product ID: {self.id}, Name: {self.name}, Coverage: {self.coverage}, Premium: {self.premium}, Term: {self.term}, Status: {self.status}\""
      ],
      "metadata": {
        "colab": {
          "base_uri": "https://localhost:8080/"
        },
        "id": "auEXmxBouKbw",
        "outputId": "d1da71c2-14fa-4b97-c14d-decdeda8efdb"
      },
      "execution_count": null,
      "outputs": [
        {
          "output_type": "stream",
          "name": "stdout",
          "text": [
            "Overwriting product.py\n"
          ]
        }
      ]
    },
    {
      "cell_type": "code",
      "source": [
        "# Create payment.py content\n",
        "%%writefile payment.py\n",
        "class Payment:\n",
        "    def __init__(self, id, policy, amount, date):\n",
        "        self.id = id\n",
        "        self.policy = policy\n",
        "        self.amount = amount\n",
        "        self.date = date\n",
        "        self.status = \"Pending\"\n",
        "\n",
        "    def process(self):\n",
        "        self.status = \"Processed\"\n",
        "        return f\"Payment {self.id} has been processed.\"\n",
        "\n",
        "    def generate_receipt(self):\n",
        "        receipt = f\"Receipt for Payment ID: {self.id}\\n\"\n",
        "        receipt += f\"Policy ID: {self.policy.id}\\n\"\n",
        "        receipt += f\"Policyholder: {self.policy.policyholder.name}\\n\"\n",
        "        receipt += f\"Product: {self.policy.product.name}\\n\"\n",
        "        receipt += f\"Amount: {self.amount}\\n\"\n",
        "        receipt += f\"Date: {self.date}\\n\"\n",
        "        receipt += f\"Status: {self.status}\\n\"\n",
        "        return receipt"
      ],
      "metadata": {
        "colab": {
          "base_uri": "https://localhost:8080/"
        },
        "id": "F1QvkLpLuNuH",
        "outputId": "cc40e281-0cad-4489-c503-91df970f3666"
      },
      "execution_count": null,
      "outputs": [
        {
          "output_type": "stream",
          "name": "stdout",
          "text": [
            "Overwriting payment.py\n"
          ]
        }
      ]
    },
    {
      "cell_type": "code",
      "source": [
        "# Create policy.py content\n",
        "%%writefile policy.py\n",
        "class Policy:\n",
        "    def __init__(self, id, policyholder, product, start_date, end_date):\n",
        "        self.id = id\n",
        "        self.policyholder = policyholder\n",
        "        self.product = product\n",
        "        self.start_date = start_date\n",
        "        self.end_date = end_date\n",
        "        self.status = \"Active\"\n",
        "        self.payments = []\n",
        "\n",
        "    def suspend(self):\n",
        "        self.status = \"Suspended\"\n",
        "        return f\"Policy {self.id} has been suspended.\"\n",
        "\n",
        "    def reactivate(self):\n",
        "        self.status = \"Active\"\n",
        "        return f\"Policy {self.id} has been reactivated.\"\n",
        "\n",
        "    def add_payment(self, payment):\n",
        "        self.payments.append(payment)\n",
        "\n",
        "    def send_payment_reminder(self):\n",
        "        return f\"Payment reminder sent to {self.policyholder.name} for policy {self.id}.\"\n",
        "\n",
        "    def apply_penalty(self, penalty_amount):\n",
        "        penalty = f\"Penalty of {penalty_amount} applied to policy {self.id} for late payment.\"\n",
        "        return penalty"
      ],
      "metadata": {
        "colab": {
          "base_uri": "https://localhost:8080/"
        },
        "id": "P_8CWvk5ulOd",
        "outputId": "acf12733-0269-4b82-f74a-39f53bd7b2c8"
      },
      "execution_count": null,
      "outputs": [
        {
          "output_type": "stream",
          "name": "stdout",
          "text": [
            "Overwriting policy.py\n"
          ]
        }
      ]
    },
    {
      "cell_type": "code",
      "source": [
        "# Create main.py content\n",
        "%%writefile main.py\n",
        "from policyholder import Policyholder\n",
        "from product import Product\n",
        "from payment import Payment\n",
        "from policy import Policy\n",
        "\n",
        "def main():\n",
        "    health_insurance = Product(101, \"Health Insurance\", \"Medical coverage\", 500, \"1 year\")\n",
        "    car_insurance = Product(102, \"Car Insurance\", \"Vehicle coverage\", 300, \"6 months\")\n",
        "\n",
        "    john = Policyholder(1, \"John Smith\", \"123 Main St\", \"555-1234\")\n",
        "    alice = Policyholder(2, \"Alice Johnson\", \"456 Oak Ave\", \"555-5678\")\n",
        "\n",
        "    john_health_policy = Policy(1001, john, health_insurance, \"2025-01-01\", \"2026-01-01\")\n",
        "    alice_car_policy = Policy(1002, alice, car_insurance, \"2025-01-15\", \"2025-07-15\")\n",
        "\n",
        "    john.add_policy(john_health_policy)\n",
        "    alice.add_policy(alice_car_policy)\n",
        "\n",
        "    john_payment = Payment(10001, john_health_policy, 500, \"2025-01-01\")\n",
        "    alice_payment = Payment(10002, alice_car_policy, 300, \"2025-01-15\")\n",
        "\n",
        "    john_payment.process()\n",
        "    alice_payment.process()\n",
        "\n",
        "    john_health_policy.add_payment(john_payment)\n",
        "    alice_car_policy.add_payment(alice_payment)\n",
        "\n",
        "    print(\"=== Policyholder Details ===\")\n",
        "    print(john.display_details())\n",
        "    print(\"\\n\")\n",
        "    print(alice.display_details())\n",
        "\n",
        "if __name__ == \"__main__\":\n",
        "    main()"
      ],
      "metadata": {
        "colab": {
          "base_uri": "https://localhost:8080/"
        },
        "id": "3iPMPvsjusse",
        "outputId": "d4a005c1-6d06-41ba-e981-20d3f7036275"
      },
      "execution_count": 17,
      "outputs": [
        {
          "output_type": "stream",
          "name": "stdout",
          "text": [
            "Overwriting main.py\n"
          ]
        }
      ]
    },
    {
      "cell_type": "code",
      "source": [
        "# Execute the main program\n",
        "!python main.py"
      ],
      "metadata": {
        "colab": {
          "base_uri": "https://localhost:8080/"
        },
        "id": "UruPjwOmvcmZ",
        "outputId": "3c5e1cf7-7ebe-4b5b-d8ff-ccf5fee8303a"
      },
      "execution_count": 18,
      "outputs": [
        {
          "output_type": "stream",
          "name": "stdout",
          "text": [
            "=== Policyholder Details ===\n",
            "Policyholder ID: 1\n",
            "Name: John Smith\n",
            "Address: 123 Main St\n",
            "Contact: 555-1234\n",
            "Status: Active\n",
            "Policies:\n",
            "  - Policy ID: 1001, Product: Health Insurance, Status: Active\n",
            "\n",
            "\n",
            "\n",
            "Policyholder ID: 2\n",
            "Name: Alice Johnson\n",
            "Address: 456 Oak Ave\n",
            "Contact: 555-5678\n",
            "Status: Active\n",
            "Policies:\n",
            "  - Policy ID: 1002, Product: Car Insurance, Status: Active\n",
            "\n"
          ]
        }
      ]
    },
    {
      "cell_type": "code",
      "source": [],
      "metadata": {
        "id": "D_fwk8T50n-i"
      },
      "execution_count": null,
      "outputs": []
    }
  ]
}